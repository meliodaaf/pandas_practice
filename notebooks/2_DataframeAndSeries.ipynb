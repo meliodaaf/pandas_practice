{
 "cells": [
  {
   "cell_type": "code",
   "execution_count": null,
   "id": "6eb95714-80d8-4952-94b2-80c81add3686",
   "metadata": {},
   "outputs": [],
   "source": [
    "import pandas as pd"
   ]
  },
  {
   "cell_type": "code",
   "execution_count": null,
   "id": "0370ece4-9c75-4a05-bf96-0c128a20e94e",
   "metadata": {},
   "outputs": [],
   "source": [
    "# Modify display \n",
    "pd.set_option('display.max_columns', 85)\n",
    "pd.set_option('display.max_rows', 85)"
   ]
  },
  {
   "cell_type": "code",
   "execution_count": 32,
   "id": "00a5cf93-7693-4f25-b84a-49cf75d67c1b",
   "metadata": {},
   "outputs": [],
   "source": [
    "# Read CSV file\n",
    "df = pd.read_csv('../data/survey_results_public.csv')"
   ]
  },
  {
   "cell_type": "code",
   "execution_count": null,
   "id": "c64fe611-027c-4218-8cd1-b176f7403f22",
   "metadata": {},
   "outputs": [],
   "source": [
    "# Dictionary\n",
    "people = {\n",
    "    \"first\": [\"Clarence\", 'Lovely', 'Chico'], \n",
    "    \"last\": [\"Subia\", 'Magat', 'Shii'], \n",
    "    \"email\": [\"clarencesubia@gmail.com\", 'lovelymagat@email.com', 'chicoshi@email.com']\n",
    "}"
   ]
  },
  {
   "cell_type": "code",
   "execution_count": null,
   "id": "0c543130-95a1-4bbe-aa09-89e1aba18d90",
   "metadata": {},
   "outputs": [],
   "source": [
    "df = pd.DataFrame(people)"
   ]
  },
  {
   "cell_type": "code",
   "execution_count": null,
   "id": "c77469c7-fa57-44e1-957e-a3a0f8ede81f",
   "metadata": {},
   "outputs": [],
   "source": [
    "df"
   ]
  },
  {
   "cell_type": "code",
   "execution_count": null,
   "id": "0998b009-3168-4018-90d5-e8090311eece",
   "metadata": {},
   "outputs": [],
   "source": [
    "# Dataframe -- rows and columns | container for multiple series objects\n",
    "type(df)"
   ]
  },
  {
   "cell_type": "code",
   "execution_count": null,
   "id": "c4f1bcca-b3c7-4172-b2a9-cdf0443e4e6f",
   "metadata": {},
   "outputs": [],
   "source": [
    "# Series -- rows of a single columns\n",
    "type(df['email'])"
   ]
  },
  {
   "cell_type": "code",
   "execution_count": null,
   "id": "a2a7cf97-44a6-4f66-bdb6-148124125b63",
   "metadata": {},
   "outputs": [],
   "source": [
    "# Accessing columns\n",
    "df['email']"
   ]
  },
  {
   "cell_type": "code",
   "execution_count": null,
   "id": "323b6517-39ee-4a49-a171-0dbdefc43e5c",
   "metadata": {},
   "outputs": [],
   "source": [
    "# Accessing multiple columns -- make note of the inner brackets\n",
    "df[['first', 'last']]"
   ]
  },
  {
   "cell_type": "code",
   "execution_count": null,
   "id": "7e1bcfa8-25e3-4be3-a7c4-9ef467e4fb08",
   "metadata": {},
   "outputs": [],
   "source": [
    "# Retrieve all of column names\n",
    "df.columns"
   ]
  },
  {
   "cell_type": "code",
   "execution_count": null,
   "id": "4c30efe6-4e42-468c-a5f2-c50c216e5926",
   "metadata": {},
   "outputs": [],
   "source": [
    "# Accessing rows using iloc and loc\n",
    "df.iloc[0]"
   ]
  },
  {
   "cell_type": "code",
   "execution_count": null,
   "id": "f4711668-ce0c-4e9f-b5ca-ad80fed75d1b",
   "metadata": {},
   "outputs": [],
   "source": [
    "# Access multiple rows\n",
    "df.iloc[[0, 1]]"
   ]
  },
  {
   "cell_type": "code",
   "execution_count": null,
   "id": "79c09492-4e0a-4865-8600-974bfc892c80",
   "metadata": {},
   "outputs": [],
   "source": [
    " # Access multiple rows and specific column index\n",
    "df.iloc[[0, 1], 2]"
   ]
  },
  {
   "cell_type": "code",
   "execution_count": null,
   "id": "cdbff310-daf6-45d6-a417-f9d37e0ed6f6",
   "metadata": {},
   "outputs": [],
   "source": [
    "# Using loc\n",
    "df.loc[0]"
   ]
  },
  {
   "cell_type": "code",
   "execution_count": null,
   "id": "42b7405b-64ee-4ee2-ae61-3fbdaace92b1",
   "metadata": {},
   "outputs": [],
   "source": [
    "# Using loc for multiple rows\n",
    "df.loc[[1,2]]"
   ]
  },
  {
   "cell_type": "code",
   "execution_count": null,
   "id": "7a89163a-0637-470e-adb6-331d165f308f",
   "metadata": {},
   "outputs": [],
   "source": [
    "# Using loc for multiple rows and specify column labels\n",
    "df.loc[[1,2], 'email']"
   ]
  },
  {
   "cell_type": "code",
   "execution_count": null,
   "id": "6123593b-23dc-4e4d-bb98-413a22c16f11",
   "metadata": {},
   "outputs": [],
   "source": [
    "# Using loc for multiple rows and specify multiple column labels\n",
    "df.loc[[1,2], ['email', 'last']]"
   ]
  },
  {
   "cell_type": "code",
   "execution_count": 34,
   "id": "10f6bad0-f618-4c66-9624-58c49b783917",
   "metadata": {},
   "outputs": [
    {
     "data": {
      "text/plain": [
       "Index(['Respondent', 'MainBranch', 'Hobbyist', 'OpenSourcer', 'OpenSource',\n",
       "       'Employment', 'Country', 'Student', 'EdLevel', 'UndergradMajor',\n",
       "       'EduOther', 'OrgSize', 'DevType', 'YearsCode', 'Age1stCode',\n",
       "       'YearsCodePro', 'CareerSat', 'JobSat', 'MgrIdiot', 'MgrMoney',\n",
       "       'MgrWant', 'JobSeek', 'LastHireDate', 'LastInt', 'FizzBuzz',\n",
       "       'JobFactors', 'ResumeUpdate', 'CurrencySymbol', 'CurrencyDesc',\n",
       "       'CompTotal', 'CompFreq', 'ConvertedComp', 'WorkWeekHrs', 'WorkPlan',\n",
       "       'WorkChallenge', 'WorkRemote', 'WorkLoc', 'ImpSyn', 'CodeRev',\n",
       "       'CodeRevHrs', 'UnitTests', 'PurchaseHow', 'PurchaseWhat',\n",
       "       'LanguageWorkedWith', 'LanguageDesireNextYear', 'DatabaseWorkedWith',\n",
       "       'DatabaseDesireNextYear', 'PlatformWorkedWith',\n",
       "       'PlatformDesireNextYear', 'WebFrameWorkedWith',\n",
       "       'WebFrameDesireNextYear', 'MiscTechWorkedWith',\n",
       "       'MiscTechDesireNextYear', 'DevEnviron', 'OpSys', 'Containers',\n",
       "       'BlockchainOrg', 'BlockchainIs', 'BetterLife', 'ITperson', 'OffOn',\n",
       "       'SocialMedia', 'Extraversion', 'ScreenName', 'SOVisit1st',\n",
       "       'SOVisitFreq', 'SOVisitTo', 'SOFindAnswer', 'SOTimeSaved',\n",
       "       'SOHowMuchTime', 'SOAccount', 'SOPartFreq', 'SOJobs', 'EntTeams',\n",
       "       'SOComm', 'WelcomeChange', 'SONewContent', 'Age', 'Gender', 'Trans',\n",
       "       'Sexuality', 'Ethnicity', 'Dependents', 'SurveyLength', 'SurveyEase'],\n",
       "      dtype='object')"
      ]
     },
     "execution_count": 34,
     "metadata": {},
     "output_type": "execute_result"
    }
   ],
   "source": [
    "# Using the CSV file here\n",
    "df.columns"
   ]
  },
  {
   "cell_type": "code",
   "execution_count": 39,
   "id": "d5239bf5-d7ac-4644-bba8-b78eed9e2c7e",
   "metadata": {},
   "outputs": [
    {
     "data": {
      "text/plain": [
       "Hobbyist\n",
       "Yes    71257\n",
       "No     17626\n",
       "Name: count, dtype: int64"
      ]
     },
     "execution_count": 39,
     "metadata": {},
     "output_type": "execute_result"
    }
   ],
   "source": [
    "# Count values from a specific columns\n",
    "df['Hobbyist'].value_counts()"
   ]
  },
  {
   "cell_type": "code",
   "execution_count": 42,
   "id": "d8a8365f-b517-4abd-bafa-49e1169fb93f",
   "metadata": {},
   "outputs": [
    {
     "data": {
      "text/plain": [
       "0    Yes\n",
       "1     No\n",
       "2    Yes\n",
       "Name: Hobbyist, dtype: object"
      ]
     },
     "execution_count": 42,
     "metadata": {},
     "output_type": "execute_result"
    }
   ],
   "source": [
    "# Grab specific rows and columns\n",
    "df.loc[[0,1,2], 'Hobbyist']"
   ]
  },
  {
   "cell_type": "code",
   "execution_count": 45,
   "id": "393203aa-4c08-41d4-8a60-7ab4813e22ea",
   "metadata": {},
   "outputs": [
    {
     "data": {
      "text/html": [
       "<div>\n",
       "<style scoped>\n",
       "    .dataframe tbody tr th:only-of-type {\n",
       "        vertical-align: middle;\n",
       "    }\n",
       "\n",
       "    .dataframe tbody tr th {\n",
       "        vertical-align: top;\n",
       "    }\n",
       "\n",
       "    .dataframe thead th {\n",
       "        text-align: right;\n",
       "    }\n",
       "</style>\n",
       "<table border=\"1\" class=\"dataframe\">\n",
       "  <thead>\n",
       "    <tr style=\"text-align: right;\">\n",
       "      <th></th>\n",
       "      <th>Hobbyist</th>\n",
       "      <th>OpenSourcer</th>\n",
       "      <th>OpenSource</th>\n",
       "      <th>Employment</th>\n",
       "    </tr>\n",
       "  </thead>\n",
       "  <tbody>\n",
       "    <tr>\n",
       "      <th>0</th>\n",
       "      <td>Yes</td>\n",
       "      <td>Never</td>\n",
       "      <td>The quality of OSS and closed source software ...</td>\n",
       "      <td>Not employed, and not looking for work</td>\n",
       "    </tr>\n",
       "    <tr>\n",
       "      <th>1</th>\n",
       "      <td>No</td>\n",
       "      <td>Less than once per year</td>\n",
       "      <td>The quality of OSS and closed source software ...</td>\n",
       "      <td>Not employed, but looking for work</td>\n",
       "    </tr>\n",
       "    <tr>\n",
       "      <th>2</th>\n",
       "      <td>Yes</td>\n",
       "      <td>Never</td>\n",
       "      <td>The quality of OSS and closed source software ...</td>\n",
       "      <td>Employed full-time</td>\n",
       "    </tr>\n",
       "    <tr>\n",
       "      <th>3</th>\n",
       "      <td>No</td>\n",
       "      <td>Never</td>\n",
       "      <td>The quality of OSS and closed source software ...</td>\n",
       "      <td>Employed full-time</td>\n",
       "    </tr>\n",
       "  </tbody>\n",
       "</table>\n",
       "</div>"
      ],
      "text/plain": [
       "  Hobbyist              OpenSourcer   \n",
       "0      Yes                    Never  \\\n",
       "1       No  Less than once per year   \n",
       "2      Yes                    Never   \n",
       "3       No                    Never   \n",
       "\n",
       "                                          OpenSource   \n",
       "0  The quality of OSS and closed source software ...  \\\n",
       "1  The quality of OSS and closed source software ...   \n",
       "2  The quality of OSS and closed source software ...   \n",
       "3  The quality of OSS and closed source software ...   \n",
       "\n",
       "                               Employment  \n",
       "0  Not employed, and not looking for work  \n",
       "1      Not employed, but looking for work  \n",
       "2                      Employed full-time  \n",
       "3                      Employed full-time  "
      ]
     },
     "execution_count": 45,
     "metadata": {},
     "output_type": "execute_result"
    }
   ],
   "source": [
    "# Using slicing for grabbing rows and columns -- last value is inclusive\n",
    "df.loc[0:3, 'Hobbyist':'Employment']"
   ]
  },
  {
   "cell_type": "code",
   "execution_count": null,
   "id": "7cb9e81c-b609-42c2-9248-011991f0044f",
   "metadata": {},
   "outputs": [],
   "source": []
  }
 ],
 "metadata": {
  "kernelspec": {
   "display_name": "Python 3 (ipykernel)",
   "language": "python",
   "name": "python3"
  },
  "language_info": {
   "codemirror_mode": {
    "name": "ipython",
    "version": 3
   },
   "file_extension": ".py",
   "mimetype": "text/x-python",
   "name": "python",
   "nbconvert_exporter": "python",
   "pygments_lexer": "ipython3",
   "version": "3.10.12"
  }
 },
 "nbformat": 4,
 "nbformat_minor": 5
}
